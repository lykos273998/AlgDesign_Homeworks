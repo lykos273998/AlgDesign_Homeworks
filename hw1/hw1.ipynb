{
 "cells": [
  {
   "cell_type": "code",
   "execution_count": 12,
   "id": "australian-albania",
   "metadata": {},
   "outputs": [],
   "source": [
    "from matrix import *\n",
    "from random import random\n",
    "#implementation of Base strassen matrix multiplication\n",
    "def isPwr2(x): \n",
    "    #uses the fact that a power of 2 in binary has one 1 and the remaining digits are 0\n",
    "    #so 16 = 10000, 32 = 100000 and so on \n",
    "    #and eg. 16 - 1 = 15 = 01111 this holds for every 2**n\n",
    "    #so bitwise 16 && 15 = 1000 && 0111 = 0000\n",
    "    #so not(16 && 15) returns 1\n",
    "    return not(x & (x - 1))\n",
    "\n",
    "def strassen_matrix_mul(A: Matrix, B: Matrix) -> Matrix:\n",
    "    if A.num_of_cols != B.num_of_rows:\n",
    "        raise ValueError(\"Wrong matrix shape: number of columns of A is %d, number of rows of B is %d\"\n",
    "                         %(A.num_of_cols, B.num_of_cols) )\n",
    "    if (A.num_of_cols != A.num_of_rows or B.num_of_cols != B.num_of_rows) and not (isPwr2(A.num_of_cols)) :\n",
    "        raise NotImplementedError(\"This implemetation deals with SQUARE matrices products with use instead GENERAL_strassen_matrix_mul\")\n",
    "    \n",
    "    #Base case\n",
    "    if A.num_of_cols < 32:\n",
    "        return gauss_matrix_mult(A,B)\n",
    "    \n",
    "    #quadrant subdivision\n",
    "    n_half = A.num_of_cols\n",
    "    A11 = A.submatrix(0, n_half, n_half, n_half)"
   ]
  },
  {
   "cell_type": "code",
   "execution_count": 26,
   "id": "natural-worry",
   "metadata": {},
   "outputs": [],
   "source": [
    "nc = 10\n",
    "nr = 10\n",
    "\n",
    "A = Matrix([[random() for j in range(nc)] for i in range(nr)])\n",
    "B = Matrix([[random() for j in range(nc)] for i in range(nr)])"
   ]
  },
  {
   "cell_type": "code",
   "execution_count": 27,
   "id": "dominant-alliance",
   "metadata": {},
   "outputs": [],
   "source": [
    "strassen_matrix_mul(A,B)"
   ]
  },
  {
   "cell_type": "code",
   "execution_count": null,
   "id": "random-worthy",
   "metadata": {},
   "outputs": [],
   "source": []
  },
  {
   "cell_type": "code",
   "execution_count": 28,
   "id": "foreign-sociology",
   "metadata": {},
   "outputs": [],
   "source": [
    "n_half = A.num_of_cols\n",
    "A11 = A.submatrix(0, n_half, n_half, n_half)"
   ]
  },
  {
   "cell_type": "code",
   "execution_count": 29,
   "id": "egyptian-attack",
   "metadata": {},
   "outputs": [
    {
     "data": {
      "text/plain": [
       "[]\n",
       "[]\n",
       "[]\n",
       "[]\n",
       "[]\n",
       "[]\n",
       "[]\n",
       "[]\n",
       "[]\n",
       "[]"
      ]
     },
     "execution_count": 29,
     "metadata": {},
     "output_type": "execute_result"
    }
   ],
   "source": [
    "A11"
   ]
  },
  {
   "cell_type": "code",
   "execution_count": null,
   "id": "measured-uganda",
   "metadata": {},
   "outputs": [],
   "source": []
  }
 ],
 "metadata": {
  "kernelspec": {
   "display_name": "Python 3",
   "language": "python",
   "name": "python3"
  },
  "language_info": {
   "codemirror_mode": {
    "name": "ipython",
    "version": 3
   },
   "file_extension": ".py",
   "mimetype": "text/x-python",
   "name": "python",
   "nbconvert_exporter": "python",
   "pygments_lexer": "ipython3",
   "version": "3.8.5"
  }
 },
 "nbformat": 4,
 "nbformat_minor": 5
}
