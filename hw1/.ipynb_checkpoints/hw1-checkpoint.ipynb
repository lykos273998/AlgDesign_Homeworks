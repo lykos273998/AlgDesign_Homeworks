{
 "cells": [
  {
   "cell_type": "code",
   "execution_count": 12,
   "id": "australian-albania",
   "metadata": {},
   "outputs": [],
   "source": [
    "from matrix import *\n",
    "from random import random\n",
    "\n",
    "#implementation of Base strassen matrix multiplication\n",
    "def strassen_matrix_mul(A: Matrix,B: Matrix) -> Matrix:\n",
    "     if A.num_of_cols != B.num_of_rows:\n",
    "        raise ValueError(\"Wrong matrix shape: number of columns of A is %d, number of rows of B is %d\"\n",
    "                         %(A.num_of_cols, B.num_of_cols) )\n",
    "    "
   ]
  },
  {
   "cell_type": "code",
   "execution_count": 13,
   "id": "natural-worry",
   "metadata": {},
   "outputs": [],
   "source": [
    "nc = 10\n",
    "nr = 10\n",
    "\n",
    "A = Matrix([[random() for j in range(nc)] for i in range(nr)])\n",
    "B = Matrix([[random() for j in range(nc)] for i in range(nr)])"
   ]
  },
  {
   "cell_type": "code",
   "execution_count": 14,
   "id": "dominant-alliance",
   "metadata": {},
   "outputs": [
    {
     "ename": "ValueError",
     "evalue": "Wrong matrix shape: number of columns of A is 10, number of rows of B is 10",
     "output_type": "error",
     "traceback": [
      "\u001b[0;31m---------------------------------------------------------------------------\u001b[0m",
      "\u001b[0;31mValueError\u001b[0m                                Traceback (most recent call last)",
      "\u001b[0;32m<ipython-input-14-21ee80e259b8>\u001b[0m in \u001b[0;36m<module>\u001b[0;34m\u001b[0m\n\u001b[0;32m----> 1\u001b[0;31m \u001b[0mstrassen_matrix_mul\u001b[0m\u001b[0;34m(\u001b[0m\u001b[0mA\u001b[0m\u001b[0;34m,\u001b[0m\u001b[0mB\u001b[0m\u001b[0;34m)\u001b[0m\u001b[0;34m\u001b[0m\u001b[0;34m\u001b[0m\u001b[0m\n\u001b[0m",
      "\u001b[0;32m<ipython-input-12-9d3020727665>\u001b[0m in \u001b[0;36mstrassen_matrix_mul\u001b[0;34m(A, B)\u001b[0m\n\u001b[1;32m      5\u001b[0m \u001b[0;32mdef\u001b[0m \u001b[0mstrassen_matrix_mul\u001b[0m\u001b[0;34m(\u001b[0m\u001b[0mA\u001b[0m\u001b[0;34m:\u001b[0m \u001b[0mMatrix\u001b[0m\u001b[0;34m,\u001b[0m\u001b[0mB\u001b[0m\u001b[0;34m:\u001b[0m \u001b[0mMatrix\u001b[0m\u001b[0;34m)\u001b[0m \u001b[0;34m->\u001b[0m \u001b[0mMatrix\u001b[0m\u001b[0;34m:\u001b[0m\u001b[0;34m\u001b[0m\u001b[0;34m\u001b[0m\u001b[0m\n\u001b[1;32m      6\u001b[0m      \u001b[0;32mif\u001b[0m \u001b[0mA\u001b[0m\u001b[0;34m.\u001b[0m\u001b[0mnum_of_cols\u001b[0m \u001b[0;34m!=\u001b[0m \u001b[0mB\u001b[0m\u001b[0;34m.\u001b[0m\u001b[0mnum_of_rows\u001b[0m\u001b[0;34m:\u001b[0m\u001b[0;34m\u001b[0m\u001b[0;34m\u001b[0m\u001b[0m\n\u001b[0;32m----> 7\u001b[0;31m         raise ValueError(\"Wrong matrix shape: number of columns of A is %d, number of rows of B is %d\" \\\n\u001b[0m\u001b[1;32m      8\u001b[0m                          %(A.num_of_cols, B.num_of_cols) )\n\u001b[1;32m      9\u001b[0m \u001b[0;34m\u001b[0m\u001b[0m\n",
      "\u001b[0;31mValueError\u001b[0m: Wrong matrix shape: number of columns of A is 10, number of rows of B is 10"
     ]
    }
   ],
   "source": [
    "strassen_matrix_mul(A,B)"
   ]
  },
  {
   "cell_type": "code",
   "execution_count": null,
   "id": "corporate-roulette",
   "metadata": {},
   "outputs": [],
   "source": []
  }
 ],
 "metadata": {
  "kernelspec": {
   "display_name": "Python 3",
   "language": "python",
   "name": "python3"
  },
  "language_info": {
   "codemirror_mode": {
    "name": "ipython",
    "version": 3
   },
   "file_extension": ".py",
   "mimetype": "text/x-python",
   "name": "python",
   "nbconvert_exporter": "python",
   "pygments_lexer": "ipython3",
   "version": "3.8.5"
  }
 },
 "nbformat": 4,
 "nbformat_minor": 5
}
