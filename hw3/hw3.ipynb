{
 "cells": [
  {
   "cell_type": "code",
   "execution_count": 4,
   "id": "desperate-vietnam",
   "metadata": {},
   "outputs": [],
   "source": [
    "from myHeap import *\n",
    "#numpy is needed to better manage arrays and indexing of matrices\n",
    "import numpy as np"
   ]
  },
  {
   "cell_type": "markdown",
   "id": "processed-extraction",
   "metadata": {},
   "source": [
    "The implementation of Dijkstra's algorithm with a Min-Heap requires a slightly modification of the Min-Heap and the nodes in the graph.\n",
    "\n",
    "The problem is that Dijkstra's algorithm requires to, extract the root from the heap, find its neighbours and update the distance from the source of them. To do this 2 operation we have to work both on the graph and on the heap so at each step each node has to know \"where it is\" on the graph and on the heap.\n",
    "\n",
    "The solution is based on the design choice to give each node a member called `Heap_idx` which stores the position of the node on the Heap. Then the Heap is a `Heap_of_Nodes` in which every time a node is moved on the heap updates the `Heap_idx` member of the nodes, so the coherence is mantained through the algorithm and data structures.\n"
   ]
  },
  {
   "cell_type": "code",
   "execution_count": 5,
   "id": "exact-tunisia",
   "metadata": {},
   "outputs": [],
   "source": [
    "class node:\n",
    "    \"\"\"\n",
    "    Implementation of node member with also representation of usefull members\n",
    "    \"\"\"\n",
    "    def __init__(self,val):\n",
    "        self.val = val\n",
    "        self.color = None\n",
    "        self.d = None\n",
    "        self.pred = None\n",
    "        self.index = None\n",
    "        self.Heap_idx = None\n",
    "        self.graph_idx = None\n",
    "       \n",
    "    def __str__(self):\n",
    "        return \"(Val %s Heap_idx %s d %s)\" % (str(self.val),str(self.Heap_idx),str(self.d))\n",
    "    def __repr__(self):\n",
    "        return (__class__.__name__).join(self.__str__())\n",
    "\n",
    "class Graph:\n",
    "    \"\"\"\n",
    "    General purpose graph implementation\n",
    "    \"\"\"\n",
    "    import numpy as np\n",
    "    def __init__ (self,E,V):\n",
    "        self.E = np.array(E)                \n",
    "        self.V = np.array([node(val) for val in V])\n",
    "        self.tot_nodes = len(self.V)\n",
    "        for i in range(len(self.V)):\n",
    "            self.V[i].index = i\n",
    "        self.COLORS = ['white','grey','black']\n",
    "        self.Q = None\n",
    "        self.BYPASSED_nodes = []\n",
    "        \n",
    "        \n",
    "        \n",
    "    def _node_total_order(self,n1,n2):\n",
    "        return n1.d < n2.d    \n",
    "        \n",
    "    def __str__(self):\n",
    "        return \"Edges (adj matrix): \\n %s \\n Nodes \\n %s\" % (str(self.E), str(self.V))\n",
    "       \n",
    "    def _Adj_idx(self,node_idx):\n",
    "        return [i for i in range(self.tot_nodes) if self.E[node_idx,i] != 0]\n",
    "    \n",
    "    def _Adj_node(self,node):\n",
    "        node_idx = node.index\n",
    "        return self._Adj_idx(node_idx)\n",
    " \n",
    "    def Adj(self,node):\n",
    "        return self.V[self._Adj_node(node)]\n",
    "    def _pred(self):\n",
    "        return [v.pred for v in self.V]\n",
    "    def _d(self):\n",
    "        return [v.d for v in self.V]\n",
    "\n",
    "class SimpleGraph(Graph):\n",
    "    \"\"\"\n",
    "    Simple non weighted graph, inherits from graph,\n",
    "    made only for practicing, not requested, nor well commented\n",
    "    \"\"\"\n",
    "    \n",
    "        \n",
    "    def _BFS_set(self,node,color,d,pred):\n",
    "        \n",
    "        node.color = color\n",
    "        node.d = d\n",
    "        if pred:\n",
    "            node.pred = pred.index\n",
    "        else:\n",
    "            node.pred = None\n",
    "        \n",
    "    def _BFS_init(self,source):\n",
    "        for v in self.V:\n",
    "            self._BFS_set(v,'white', np.infty, None)\n",
    "        self._BFS_set(source,'grey',0,source)\n",
    "        \n",
    "        self.Q = Heap([source],self._node_total_order)\n",
    "        \n",
    "    def BFS(self,source_idx):\n",
    "        source = self.V[source_idx]\n",
    "        self._BFS_init(source)\n",
    "        while self.Q.Size != 0:\n",
    "            u = self.Q.ExtractRoot()\n",
    "            \n",
    "            for v in self.Adj(u):\n",
    "                if v.color == 'white':\n",
    "                    self._BFS_set(v,'grey', u.d + 1, u)\n",
    "                    self.Q.Insert(v)\n",
    "            u.color = 'black'\n",
    "        \n",
    "        return self._pred(), self._d()\n",
    "    \n",
    "class WeightedGrah(Graph):\n",
    "    \"\"\"\n",
    "    Implementation of Weighted graph, inherits from Graph\n",
    "    \"\"\"\n",
    "    def _SSSP_init(self):\n",
    "        \"\"\"\n",
    "        Initialization step of SSSP\n",
    "        \"\"\"\n",
    "        for v in self.V:\n",
    "            v.d = np.infty\n",
    "            v.pred = None\n",
    "            \n",
    "    def _UPDATE_dist(self, v, dist):\n",
    "        \"\"\"\n",
    "        Updates the distance of the node passed and\n",
    "        asks the Heap to push up the node on the Heap,\n",
    "        to make sure the Heap property is fixed after the update\n",
    "        \"\"\"\n",
    "        v.d = dist\n",
    "        self.Q._push_up(v.Heap_idx)\n",
    "        \n",
    "        \n",
    "        \n",
    "    def _relax(self,u,v,w):\n",
    "        \"\"\"\n",
    "        Dijkstra's algorithm step to update the distance of the node's neighbours\n",
    "        Setting also the predecessor of the node if condition is fullfilled\n",
    "        \"\"\"\n",
    "        if u.d + w < v.d:\n",
    "            self._UPDATE_dist(v, u.d + w)\n",
    "            v.pred = u.index\n",
    "        \n",
    "            \n",
    "    def _Adj_w(self,node):\n",
    "        \"\"\"\n",
    "        Returns the adjiacent nodes of a given node and given\n",
    "        weights in an iterable, relies on _Adj_node defined in parent class\n",
    "        \"\"\"\n",
    "        n_list = self._Adj_node(node)\n",
    "        return zip(self.V[n_list], self.E[node.index,n_list])\n",
    "    \n",
    "    def _set_Heap_idx(self):\n",
    "        \"\"\"\n",
    "        Sets all the Heap_idx of the nodes in the Heap\n",
    "        \"\"\"\n",
    "        if self.Q:\n",
    "            for i in range(self.Q.Size):\n",
    "                self.Q.A[i].Heap_idx = i\n",
    "        \n",
    "    def DIJKSTRA_node(self, source):\n",
    "        \"\"\"\n",
    "        Implementation of Dijkstra's algorithm using `Heap_of_nodes` defined in \n",
    "        `myHeap.py` using as total oreder `_node_total_order` defined in parent class\n",
    "        \"\"\"\n",
    "        #initialize all the nodes\n",
    "        self._SSSP_init()\n",
    "        source.d = 0\n",
    "        #build the heap\n",
    "        self.Q = Heap_of_nodes(self.V, self._node_total_order)\n",
    "        #set all Heap_idx to current values\n",
    "        self._set_Heap_idx()\n",
    "        \n",
    "        while self.Q.Size != 0:\n",
    "            #perform extraction of a node\n",
    "            u = self.Q.ExtractRoot()\n",
    "            u = self.V[u.index]\n",
    "            \n",
    "            for v,w in  self._Adj_w(u):\n",
    "                #relaxation dijkstra step\n",
    "                #v -> neighobour node, w -> weight of the edge connecting them\n",
    "                self._relax(u,v,w)\n",
    "                \n",
    "        #returning all the properties of the nodes calculated\n",
    "        return self._pred(), self._d()\n",
    "    \n",
    "    \n",
    "    def DIJKSTRA(self, source_idx):\n",
    "        return self.DIJKSTRA_node(self.V[source_idx])\n",
    "    \n",
    "    def add_shortcut(self, node_idx):\n",
    "        \"\"\"\n",
    "        Calculates new edges of the graph corresponding to shortucuts on the graph\n",
    "        The idea is that given a node \"k\" the algorithm takes all the edges entering and exiting k\n",
    "        Let assume i has an edge  into k and o has an edge arriving from k\n",
    "        If there is no edge between i and o a new edge is created in E[i,o] = E[i,k] + E[k,o]\n",
    "        If there is already an edge the minimum is taken among the current one and the \n",
    "        calculated through the shortcut\n",
    "        \"\"\"\n",
    "        self.BYPASSED_nodes.append(node_idx)\n",
    "        node_in = np.array([ i for i in range(len(self.V)) if self.E[i,node_idx] != 0])\n",
    "        node_out = np.array([ j for j in range(len(self.V)) if self.E[node_idx,j] != 0])\n",
    "        \n",
    "        for idx in node_in:\n",
    "            for jdx in node_out:\n",
    "                if self.E[idx,jdx] > 0:\n",
    "                    self.E[idx,jdx] = min(self.E[idx,jdx],self.E[idx,node_idx]+self.E[node_idx,jdx])\n",
    "                else:\n",
    "                    self.E[idx,jdx] = self.E[idx,node_idx]+self.E[node_idx,jdx]\n",
    "\n",
    " "
   ]
  },
  {
   "cell_type": "code",
   "execution_count": 8,
   "id": "rational-eight",
   "metadata": {},
   "outputs": [
    {
     "name": "stdout",
     "output_type": "stream",
     "text": [
      "[1, 2, 3, 4, 5, 6]\n"
     ]
    }
   ],
   "source": [
    "#test graph taken from slides, to test Dijkstra algorithm result\n",
    "w = np.array([\n",
    "    [0,1,5,0,0,0],\n",
    "    [0,0,0,0,0,15],\n",
    "    [0,0,0,2,0,0],\n",
    "    [0,0,0,0,1,0],\n",
    "    [0,0,0,0,0,3],\n",
    "    [0,0,0,0,0,0]\n",
    "])  \n",
    "\n",
    "vertx = ['a' ,'b','c','d','e','f','g']\n",
    "v = [i for i in range(1,7)]\n",
    "print(v)\n",
    "W_graph = WeightedGrah(w,v)"
   ]
  },
  {
   "cell_type": "code",
   "execution_count": 9,
   "id": "signed-pharmacology",
   "metadata": {},
   "outputs": [
    {
     "data": {
      "text/plain": [
       "([None, 0, 0, 2, 3, 4], [0, 1, 5, 7, 8, 11])"
      ]
     },
     "execution_count": 9,
     "metadata": {},
     "output_type": "execute_result"
    }
   ],
   "source": [
    "W_graph.DIJKSTRA(0)\n",
    "#first element are predecessors, second distances"
   ]
  },
  {
   "cell_type": "code",
   "execution_count": 14,
   "id": "sophisticated-builder",
   "metadata": {},
   "outputs": [],
   "source": [
    "W_graph.add_shortcut(2)\n",
    "#adding shortcut to bypass node 2\n",
    "#checking what happens if we apply simple dijkstra to it \n",
    "#checking also what happens at the edge matrix"
   ]
  },
  {
   "cell_type": "code",
   "execution_count": 12,
   "id": "developing-lewis",
   "metadata": {},
   "outputs": [
    {
     "data": {
      "text/plain": [
       "([None, 0, 0, 0, 3, 4], [0, 1, 5, 7, 8, 11])"
      ]
     },
     "execution_count": 12,
     "metadata": {},
     "output_type": "execute_result"
    }
   ],
   "source": [
    "W_graph.DIJKSTRA(0)"
   ]
  },
  {
   "cell_type": "code",
   "execution_count": 13,
   "id": "adopted-action",
   "metadata": {},
   "outputs": [
    {
     "data": {
      "text/plain": [
       "array([[ 0,  1,  5,  7,  0,  0],\n",
       "       [ 0,  0,  0,  0,  0, 15],\n",
       "       [ 0,  0,  0,  2,  0,  0],\n",
       "       [ 0,  0,  0,  0,  1,  0],\n",
       "       [ 0,  0,  0,  0,  0,  3],\n",
       "       [ 0,  0,  0,  0,  0,  0]])"
      ]
     },
     "execution_count": 13,
     "metadata": {},
     "output_type": "execute_result"
    }
   ],
   "source": [
    "W_graph.E"
   ]
  },
  {
   "cell_type": "code",
   "execution_count": null,
   "id": "colonial-paintball",
   "metadata": {},
   "outputs": [],
   "source": []
  }
 ],
 "metadata": {
  "kernelspec": {
   "display_name": "Python 3",
   "language": "python",
   "name": "python3"
  },
  "language_info": {
   "codemirror_mode": {
    "name": "ipython",
    "version": 3
   },
   "file_extension": ".py",
   "mimetype": "text/x-python",
   "name": "python",
   "nbconvert_exporter": "python",
   "pygments_lexer": "ipython3",
   "version": "3.8.5"
  }
 },
 "nbformat": 4,
 "nbformat_minor": 5
}
