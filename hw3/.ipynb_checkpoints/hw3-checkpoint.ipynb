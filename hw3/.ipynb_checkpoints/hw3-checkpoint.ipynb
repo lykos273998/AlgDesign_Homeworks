{
 "cells": [
  {
   "cell_type": "code",
   "execution_count": 1,
   "id": "desperate-vietnam",
   "metadata": {},
   "outputs": [],
   "source": [
    "from myHeap import *\n",
    "#numpy is needed to better manage arrays and indexing of matrices\n",
    "import numpy as np"
   ]
  },
  {
   "cell_type": "markdown",
   "id": "invisible-ridge",
   "metadata": {},
   "source": [
    "## Ex 1 & 2.1\n",
    "\n",
    "The implementation of Dijkstra's algorithm with a Min-Heap requires a slightly modification of the Min-Heap and the nodes in the graph.\n",
    "\n",
    "The problem is that Dijkstra's algorithm requires to, extract the root from the heap, find its neighbours and update the distance from the source of them. To do this 2 operation we have to work both on the graph and on the heap so at each step each node has to know \"where it is\" on the graph and on the heap.\n",
    "\n",
    "The solution is based on the design choice to give each node a member called `Heap_idx` which stores the position of the node on the Heap. Then the Heap is a `Heap_of_Nodes` in which every time a node is moved on the heap updates the `Heap_idx` member of the nodes, so the coherence is mantained through the algorithm and data structures.\n",
    "\n",
    "Both ex1 and ex2.1 are solved here below\n",
    "\n"
   ]
  },
  {
   "cell_type": "code",
   "execution_count": 2,
   "id": "exact-tunisia",
   "metadata": {},
   "outputs": [],
   "source": [
    "class node:\n",
    "    \"\"\"\n",
    "    Implementation of node member with also representation of usefull members\n",
    "    \"\"\"\n",
    "    def __init__(self,val):\n",
    "        self.val = val\n",
    "        self.color = None\n",
    "        self.d = None\n",
    "        self.pred = None\n",
    "        self.index = None\n",
    "        self.Heap_idx = None\n",
    "        self.graph_idx = None\n",
    "        self.importance = 0\n",
    "       \n",
    "    def __str__(self):\n",
    "        return \"(Val %s Heap_idx %s d %s)\" % (str(self.val),str(self.Heap_idx),str(self.d))\n",
    "    def __repr__(self):\n",
    "        return \"(Val %s Heap_idx %s d %s)\" % (str(self.val),str(self.Heap_idx),str(self.d))\n",
    "\n",
    "class Graph:\n",
    "    \"\"\"\n",
    "    General purpose graph implementation\n",
    "    \"\"\"\n",
    "    import numpy as np\n",
    "    def __init__ (self,E,V):\n",
    "        self.E = np.array(E)                \n",
    "        self.V = np.array([node(val) for val in V])\n",
    "        self.tot_nodes = len(self.V)\n",
    "        for i in range(len(self.V)):\n",
    "            self.V[i].index = i\n",
    "        self.COLORS = ['white','grey','black']\n",
    "        self.Q = None\n",
    "        self.E_s = deepcopy(self.E)\n",
    "        self.BYPASSED_nodes = []\n",
    "        self.shortcuts_taken = [[None for i in range(len(self.V))]for j in range(len(self.V))]\n",
    "        \n",
    "        \n",
    "        \n",
    "    def _node_total_order(self,n1,n2):\n",
    "        return n1.d < n2.d    \n",
    "        \n",
    "    def __str__(self):\n",
    "        return \"Edges (adj matrix): \\n %s \\n Nodes \\n %s\" % (str(self.E), str(self.V))\n",
    "       \n",
    "    def _Adj_idx(self,node_idx):\n",
    "        return [i for i in range(self.tot_nodes) if self.E[node_idx,i] != 0]\n",
    "    \n",
    "    def _Adj_node(self,node):\n",
    "        node_idx = node.index\n",
    "        return self._Adj_idx(node_idx)\n",
    " \n",
    "    def Adj(self,node):\n",
    "        return self.V[self._Adj_node(node)]\n",
    "    def _pred(self):\n",
    "        return [v.pred for v in self.V]\n",
    "    def _d(self):\n",
    "        return [v.d for v in self.V]\n",
    "\n",
    "class SimpleGraph(Graph):\n",
    "    \"\"\"\n",
    "    Simple non weighted graph, inherits from graph,\n",
    "    made only for practicing, not requested, nor well commented\n",
    "    \"\"\"\n",
    "    \n",
    "        \n",
    "    def _BFS_set(self,node,color,d,pred):\n",
    "        \n",
    "        node.color = color\n",
    "        node.d = d\n",
    "        if pred:\n",
    "            node.pred = pred.index\n",
    "        else:\n",
    "            node.pred = None\n",
    "        \n",
    "    def _BFS_init(self,source):\n",
    "        for v in self.V:\n",
    "            self._BFS_set(v,'white', np.infty, None)\n",
    "        self._BFS_set(source,'grey',0,source)\n",
    "        \n",
    "        self.Q = Heap([source],self._node_total_order)\n",
    "        \n",
    "    def BFS(self,source_idx):\n",
    "        source = self.V[source_idx]\n",
    "        self._BFS_init(source)\n",
    "        while self.Q.Size != 0:\n",
    "            u = self.Q.ExtractRoot()\n",
    "            \n",
    "            for v in self.Adj(u):\n",
    "                if v.color == 'white':\n",
    "                    self._BFS_set(v,'grey', u.d + 1, u)\n",
    "                    self.Q.Insert(v)\n",
    "            u.color = 'black'\n",
    "        \n",
    "        return self._pred(), self._d()\n",
    "    \n",
    "    \n",
    "    \n",
    "    \n",
    "    \n",
    "class WeightedGrah(Graph):\n",
    "    \"\"\"\n",
    "    Implementation of Weighted graph, inherits from Graph\n",
    "    \"\"\"\n",
    "    def _Adj_w(self,node):\n",
    "        \"\"\"\n",
    "        Returns the adjiacent nodes of a given node and given\n",
    "        weights in an iterable, relies on _Adj_node defined in parent class\n",
    "        \"\"\"\n",
    "        n_list = self._Adj_node(node)\n",
    "        return zip(self.V[n_list], self.E[node.index,n_list])\n",
    "    \n",
    "    def get_path(self,node_idx):\n",
    "        path = []\n",
    "        curr_idx = node_idx\n",
    "        while curr_idx != None:\n",
    "            curr = self.V[curr_idx]\n",
    "          \n",
    "            path.append(curr_idx)\n",
    "            curr_idx = curr.pred\n",
    "            \n",
    "        #path.reverse()\n",
    "        return path\n",
    "    \n",
    "    def add_shortcut(self, node_idx):\n",
    "        \"\"\"\n",
    "        Calculates new edges of the graph corresponding to shortucuts on the graph\n",
    "        The idea is that given a node \"k\" the algorithm takes all the edges entering and exiting k\n",
    "        Let assume i has an edge  into k and o has an edge arriving from k\n",
    "        If there is no edge between i and o a new edge is created in E[i,o] = E[i,k] + E[k,o]\n",
    "        If there is already an edge the minimum is taken among the current one and the \n",
    "        calculated through the shortcut\n",
    "        \n",
    "        then add the info about the shortcut in self.shortcuts_taken, namely the most important node bypassed \n",
    "        in taking the shortcut\n",
    "        \"\"\"\n",
    "        if node_idx not in self.BYPASSED_nodes:\n",
    "            self.BYPASSED_nodes.append(node_idx)\n",
    "            node_in = np.array([ i for i in range(len(self.V)) if self.E_s[i,node_idx] != 0])\n",
    "            node_out = np.array([ j for j in range(len(self.V)) if self.E_s[node_idx,j] != 0])\n",
    "\n",
    "            for idx in node_in:\n",
    "                for jdx in node_out:\n",
    "                    if self.E[idx,jdx] == 0 or (self.E[idx,node_idx]+self.E[node_idx,jdx]) <  self.E[idx,jdx]:\n",
    "                        self.E[idx,jdx] = self.E[idx,node_idx] + self.E[node_idx,jdx]\n",
    "                        self.shortcuts_taken[idx][jdx] = node_idx\n",
    "                        #remove all the edges by setting to zeros the inputs\n",
    "                        #eliminate the edges in the current contraction \n",
    "                        self.E_s[:,node_idx] = np.zeros(len(self.E_s))\n",
    "                        self.E_s[node_idx,:] = np.zeros(len(self.E_s))"
   ]
  },
  {
   "cell_type": "code",
   "execution_count": 3,
   "id": "latin-treaty",
   "metadata": {},
   "outputs": [],
   "source": [
    "\n",
    "def _SSSP_init(G):\n",
    "    \"\"\"\n",
    "    Initialization step of SSSP\n",
    "    \"\"\"\n",
    "    for v in G.V:\n",
    "        v.d = np.infty\n",
    "        v.pred = None\n",
    "\n",
    "def _UPDATE_dist(Q, v, dist):\n",
    "    \"\"\"\n",
    "    Updates the distance of the node passed and\n",
    "    asks the Heap to push up the node on the Heap,\n",
    "    to make sure the Heap property is fixed after the update\n",
    "    \"\"\"\n",
    "    v.d = dist\n",
    "    Q._push_up(v.Heap_idx)\n",
    "\n",
    "\n",
    "\n",
    "def _relax(Q,u,v,w):\n",
    "    \"\"\"\n",
    "    Dijkstra's algorithm step to update the distance of the node's neighbours\n",
    "    Setting also the predecessor of the node if condition is fullfilled\n",
    "    \"\"\"\n",
    "    if u.d + w < v.d:\n",
    "        _UPDATE_dist(Q,v, u.d + w)\n",
    "        v.pred = u.index\n",
    "\n",
    "\n",
    "\n",
    "\n",
    "def _set_Heap_idx(Q):\n",
    "    \"\"\"\n",
    "    Sets all the Heap_idx of the nodes in the Heap\n",
    "    \"\"\"\n",
    "    if Q:\n",
    "        for i in range(Q.Size):\n",
    "            Q.A[i].Heap_idx = i\n",
    "\n",
    "def DIJKSTRA(G, source_idx):\n",
    "    \"\"\"\n",
    "    Implementation of Dijkstra's algorithm using `Heap_of_nodes` defined in \n",
    "    `myHeap.py` using as total oreder `_node_total_order` defined in class GRAPH\n",
    "    \"\"\"\n",
    "    source = G.V[source_idx]\n",
    "    #initialize all the nodes\n",
    "    _SSSP_init(G)\n",
    "    source.d = 0\n",
    "    #build the heap\n",
    "    Q = Heap_of_nodes(G.V, G._node_total_order)\n",
    "    #set all Heap_idx to current values\n",
    "    _set_Heap_idx(Q)\n",
    "\n",
    "    while Q.Size != 0:\n",
    "        #perform extraction of a node\n",
    "        u = Q.ExtractRoot()\n",
    "        \n",
    "\n",
    "        for v,w in  G._Adj_w(u):\n",
    "            #relaxation dijkstra step\n",
    "            #v -> neighobour node, w -> weight of the edge connecting them\n",
    "            _relax(Q,u,v,w)\n",
    "\n",
    "    #returning all the properties of the nodes calculated\n",
    "    return G._pred(), G._d()\n",
    "\n",
    "\n",
    "    \n",
    "def print_DIJKSTRA_info(G,source_idx):\n",
    "    preds, dists = DIJKSTRA(G,source_idx)\n",
    "    print(f\"\\nFrom source {source_idx} shortest paths are\\n\")\n",
    "    for i in range(len(preds)):\n",
    "        if preds[i] != None:\n",
    "            p = G.get_path(i)\n",
    "            p.reverse()\n",
    "            print(f\"to node {i} with distance {dists[i]} -> path {p}\")"
   ]
  },
  {
   "cell_type": "code",
   "execution_count": 4,
   "id": "rational-eight",
   "metadata": {},
   "outputs": [
    {
     "name": "stdout",
     "output_type": "stream",
     "text": [
      "[1, 2, 3, 4, 5, 6]\n"
     ]
    }
   ],
   "source": [
    "#test graph taken from slides, to test Dijkstra algorithm result\n",
    "w = np.array([\n",
    "    [0,1,5,0,0,0],\n",
    "    [0,0,0,0,0,15],\n",
    "    [0,0,0,2,0,0],\n",
    "    [0,0,0,0,1,0],\n",
    "    [0,0,0,0,0,3],\n",
    "    [0,0,0,0,0,0]\n",
    "])  \n",
    "\n",
    "vertx = ['a' ,'b','c','d','e','f','g']\n",
    "v = [i for i in range(1,7)]\n",
    "print(v)\n",
    "W_graph = WeightedGrah(w,v)"
   ]
  },
  {
   "cell_type": "code",
   "execution_count": 5,
   "id": "signed-pharmacology",
   "metadata": {},
   "outputs": [
    {
     "name": "stdout",
     "output_type": "stream",
     "text": [
      "\n",
      "From source 1 shortest paths are\n",
      "\n",
      "to node 5 with distance 15 -> path [1, 5]\n"
     ]
    }
   ],
   "source": [
    "#print(DIJKSTRA(W_graph,0))\n",
    "#first element are predecessors, second distances\n",
    "print_DIJKSTRA_info(W_graph,1)"
   ]
  },
  {
   "cell_type": "code",
   "execution_count": 6,
   "id": "sophisticated-builder",
   "metadata": {},
   "outputs": [],
   "source": [
    "#W_graph.add_shortcut(2)\n",
    "#adding shortcut to bypass node 2\n",
    "#checking what happens if we apply simple dijkstra to it \n",
    "#checking also what happens at the edge matrix"
   ]
  },
  {
   "cell_type": "code",
   "execution_count": 7,
   "id": "developing-lewis",
   "metadata": {},
   "outputs": [
    {
     "name": "stdout",
     "output_type": "stream",
     "text": [
      "\n",
      "From source 4 shortest paths are\n",
      "\n",
      "to node 5 with distance 3 -> path [4, 5]\n",
      "([None, None, None, None, None, 4], [inf, inf, inf, inf, 0, 3])\n"
     ]
    }
   ],
   "source": [
    "print_DIJKSTRA_info(W_graph,4)\n",
    "print(DIJKSTRA(W_graph,4))\n",
    "#now predecessor of node 3 is 0, signaling that \n",
    "#2 is now bypassed"
   ]
  },
  {
   "cell_type": "code",
   "execution_count": 8,
   "id": "adopted-action",
   "metadata": {},
   "outputs": [
    {
     "data": {
      "text/plain": [
       "array([[ 0,  1,  5,  0,  0,  0],\n",
       "       [ 0,  0,  0,  0,  0, 15],\n",
       "       [ 0,  0,  0,  2,  0,  0],\n",
       "       [ 0,  0,  0,  0,  1,  0],\n",
       "       [ 0,  0,  0,  0,  0,  3],\n",
       "       [ 0,  0,  0,  0,  0,  0]])"
      ]
     },
     "execution_count": 8,
     "metadata": {},
     "output_type": "execute_result"
    }
   ],
   "source": [
    "W_graph.E"
   ]
  },
  {
   "cell_type": "markdown",
   "id": "legal-richmond",
   "metadata": {},
   "source": [
    "## 2.2 Bi-Directional Dijkstra alg\n",
    "Bidirectional version of Dijkstra's algorithm works on the idea of starting from a guess distance between source and target which is infinite. Then at each step a node is extracted from 2 queues, one starting from the source and one from the target. Once a node is finalized its index is put into an array. If at a certain point a node extracted from the source's queue is in the finalized of the target array the guess distance is updtated and that node is saved as a \"joint\". The iteration continues while the queues are empty or a path is found. \n",
    "\n",
    "A path is found whenever we extract 2 nodes and the sum of their distance is greater than the guessed one. In particular, the nodes extracted from the queues are the ones which minimum distance respectively to the source and the target. Since they were new, so they they arent discovered neither by the forward search neither by the backward search, for sure from now on to connect the regions the path will be longer than the guessed distance, so the optimal path has been already discovered.\n",
    "\n",
    "Now, how to relate it with the contraction hierarchy? The idea in this case is to accept the relaxation of the nodes only if the arc is gaining in importance, then once the path is found the full shortest path is unveiled by unpacking all shortcuts taken. This has to be done both in the fwd search and in the bwd.\n",
    "\n",
    "Actually the implementation works if the nodes are left with no \"importance\" but things go wrong when the alg is applied to the contraction hierarchy, acutally I obtain correct distances but I can't reverse the process of shortcutting"
   ]
  },
  {
   "cell_type": "code",
   "execution_count": 23,
   "id": "colonial-paintball",
   "metadata": {},
   "outputs": [],
   "source": [
    "def BI_DIJKSTRA(G, source_idx, target_idx):\n",
    "    \"\"\"\n",
    "    Implementation of Bidirectional Dijkstra algorithm, relies on the idea of performing at the\n",
    "    same time exploration from source to target and vice versa. The idea is to explore in both direction the graph\n",
    "    When the two exploration touch we have found a node in which the shortest path will go through\n",
    "    \"\"\"\n",
    "    from copy import deepcopy\n",
    "    \n",
    "    F = deepcopy(G)\n",
    "    #F is the inverted graph in which all edges are inverted, in this implementation\n",
    "    #this is achieved by transposing edges matrices\n",
    "    F.E = F.E.T\n",
    "    \n",
    "    #print(G)\n",
    "    #print(F)\n",
    "   \n",
    "    source = G.V[source_idx]\n",
    "    target = F.V[target_idx]\n",
    "    #initialize all the nodes\n",
    "    _SSSP_init(G)\n",
    "    _SSSP_init(F)\n",
    "    \n",
    "    source.d = 0\n",
    "    target.d = 0\n",
    "    #build the heap\n",
    "    Q = Heap_of_nodes(G.V, G._node_total_order)\n",
    "    R = Heap_of_nodes(F.V, F._node_total_order)\n",
    "    \n",
    "    #set all Heap_idx to current values\n",
    "    _set_Heap_idx(Q)\n",
    "    _set_Heap_idx(R)\n",
    "    \n",
    "    finalized_fwd = []\n",
    "    finalized_bwd = []\n",
    "    \n",
    "    tmp_dist = np.infty\n",
    "    path_found = False\n",
    "    while Q.Size != 0 and R.Size != 0:\n",
    "        #perform extraction of a node\n",
    "        u = Q.ExtractRoot()\n",
    "        t = R.ExtractRoot()\n",
    "        \n",
    "        #print(u.index,t.index)\n",
    "        \n",
    "        \n",
    "        if u.index in finalized_bwd:\n",
    "            #update the guess for the distance\n",
    "            #then update the joint of the dijsktra regions\n",
    "            \n",
    "            if u.d + F.V[u.index].d < tmp_dist:\n",
    "                joint = u.index\n",
    "                tmp_dist = u.d + F.V[u.index].d\n",
    "                \n",
    "        if t.index in finalized_fwd:\n",
    "            if t.d + G.V[t.index].d < tmp_dist:\n",
    "                tmp_dist = t.d + G.V[t.index].d\n",
    "                joint = t.index\n",
    "        #print(tmp_dist)   \n",
    "        if u.d + t.d > tmp_dist and u.index not in finalized_bwd and t.index not in finalized_fwd:\n",
    "            #if the roots of the heaps are more distant than the min\n",
    "            #guess distance for sure if we draw an arc bewtween them \n",
    "            #the total distance will be greater than their sum\n",
    "            #so we have already found the optimal path\n",
    "           \n",
    "            path_found = True\n",
    "            break\n",
    "            \n",
    "        \n",
    "        finalized_fwd.append(u.index)\n",
    "        finalized_bwd.append(t.index)\n",
    "        \n",
    "        \n",
    "        \n",
    "        for v,w in  G._Adj_w(u):\n",
    "            #relaxation dijkstra step\n",
    "            #v -> neighobour node, w -> weight of the edge connecting them\n",
    "            #pass through the edge iff the importance grows on the update\n",
    "            if u.importance <= v.importance: \n",
    "                _relax(Q,u,v,w)\n",
    "        \n",
    "        #relax bwd sets the predecessor of the nodes\n",
    "        for v,w in  F._Adj_w(t):\n",
    "            #relaxation dijkstra step\n",
    "            #print(v.index,w)\n",
    "            \n",
    "            if t.importance <= v.importance: \n",
    "                _relax(R,t,v,w)\n",
    "            \n",
    "    path = None\n",
    "    \n",
    "    \n",
    "    if path_found or Q.Size == 0:\n",
    "        \n",
    "            \n",
    "        #if a path is found then \n",
    "        # a) find the acutal path\n",
    "        # b) since we do not know where the 2 paths are merging\n",
    "        #    travel along the path and find the true distances\n",
    "        \n",
    "        #set the preds  nodes on G\n",
    "        pathG = G.get_path(joint)\n",
    "        pathF = F.get_path(joint)\n",
    "        \n",
    "        #print(pathG)\n",
    "        #print(pathF)\n",
    "        pathG.reverse()\n",
    "        path = []\n",
    "        \n",
    "        #rebuilding the full path\n",
    "        if len(pathG) == 1:\n",
    "            path += pathG\n",
    "        else:\n",
    "            path += pathG[:-1]\n",
    "            \n",
    "        if len(pathF) == 1:\n",
    "            path += [target_idx]\n",
    "            \n",
    "        else:\n",
    "            if len(pathG) == 1:\n",
    "                path = pathF\n",
    "            else:\n",
    "                path += pathF\n",
    "            \n",
    "           #G.get_path(target_idx)\n",
    "        #print(path)\n",
    "        dists = np.zeros(len(pathG))\n",
    "        #calculate distances travelling along the path\n",
    "        print(f\"joint found on {joint}\")\n",
    "        print(f\"FWD path {pathG}, BWD path{pathF}\")\n",
    "         \n",
    "        \n",
    "\n",
    "    #returning all the properties of the nodes calculated\n",
    "    return path, tmp_dist\n",
    "\n",
    "def print_BI_DIJKSTRA_info(G,source_idx,target_idx):\n",
    "    path, dist = BI_DIJKSTRA(G,source_idx,target_idx)\n",
    "    print(f\"From source {source_idx} to target {target_idx} the path is {path} with distance {dist}\")\n",
    "    return path, dist\n",
    "\n",
    "def unpack_shortcut(G,path_to_build,i,o):\n",
    "    if G.shortcuts_taken[i][o] != None:\n",
    "        print(f\"shortcut taken between {i} and {o}\")\n",
    "        new_o = G.shortcuts_taken[i][o]\n",
    "        unpack_shortcut(G,path_to_build,i,new_o)\n",
    "        path_to_build.append(new_o)\n",
    "        return\n",
    "    \n",
    "    else:\n",
    "        path_to_build.append(i)\n",
    "        #path_to_build.append(o)\n",
    "        return\n",
    "        \n",
    "    \n",
    "\n",
    "def unpack_path(G,path):\n",
    "    path_to_build = []\n",
    "    if len(G.BYPASSED_nodes) == 0:\n",
    "        print(\"no shortcuts to unpack\")\n",
    "        return \n",
    "    else:\n",
    "        for i in range(len(path)-1):\n",
    "            if G.shortcuts_taken[path[i]][path[i+1]]:\n",
    "                unpack_shortcut(G,path_to_build,path[i],path[i+1])\n",
    "            else:\n",
    "                path_to_build.append(path[i])\n",
    "    if G.shortcuts_taken[path[-2]][path[-1]] != None:\n",
    "        path_to_build.append(path[-1])\n",
    "    return path_to_build\n",
    "\n"
   ]
  },
  {
   "cell_type": "code",
   "execution_count": 24,
   "id": "important-governor",
   "metadata": {},
   "outputs": [
    {
     "name": "stdout",
     "output_type": "stream",
     "text": [
      "joint found on 3\n",
      "FWD path [0, 2, 3], BWD path[3, 4, 5]\n"
     ]
    },
    {
     "data": {
      "text/plain": [
       "([0, 2, 3, 4, 5], 11)"
      ]
     },
     "execution_count": 24,
     "metadata": {},
     "output_type": "execute_result"
    }
   ],
   "source": [
    "BI_DIJKSTRA(W_graph,0,5)\n"
   ]
  },
  {
   "cell_type": "code",
   "execution_count": 25,
   "id": "stock-yield",
   "metadata": {},
   "outputs": [
    {
     "name": "stdout",
     "output_type": "stream",
     "text": [
      "\n",
      "From source 4 shortest paths are\n",
      "\n",
      "to node 0 with distance 2.0 -> path [4, 0]\n",
      "to node 1 with distance 2.0 -> path [4, 3, 1]\n",
      "to node 2 with distance 2.0 -> path [4, 3, 2]\n",
      "to node 3 with distance 1.0 -> path [4, 3]\n",
      "to node 5 with distance 1.0 -> path [4, 5]\n",
      "to node 6 with distance 2.0 -> path [4, 6]\n",
      "to node 7 with distance 1.0 -> path [4, 7]\n",
      "to node 8 with distance 2.0 -> path [4, 12, 8]\n",
      "to node 9 with distance 2.0 -> path [4, 9]\n",
      "to node 10 with distance 2.0 -> path [4, 10]\n",
      "to node 11 with distance 1.0 -> path [4, 11]\n",
      "to node 12 with distance 1.0 -> path [4, 12]\n",
      "to node 13 with distance 2.0 -> path [4, 5, 13]\n",
      "to node 14 with distance 2.0 -> path [4, 5, 14]\n"
     ]
    }
   ],
   "source": [
    "#initializing a random graph\n",
    "n = 15\n",
    "np.random.seed(12)\n",
    "w2 = (np.random.rand(n,n)*8)//2\n",
    "v2 = [i for i in range(n)]\n",
    "\n",
    "G = WeightedGrah(w2,v2)\n",
    "\n",
    "#for simplicity let assume nodes are ordered by importance\n",
    "\n",
    "    \n",
    "    \n",
    "print_DIJKSTRA_info(G,4)\n",
    "\n"
   ]
  },
  {
   "cell_type": "code",
   "execution_count": 26,
   "id": "electric-violin",
   "metadata": {},
   "outputs": [
    {
     "name": "stdout",
     "output_type": "stream",
     "text": [
      "joint found on 3\n",
      "FWD path [4, 3], BWD path[3, 1]\n",
      "From source 4 to target 1 the path is [4, 3, 1] with distance 2.0\n"
     ]
    },
    {
     "data": {
      "text/plain": [
       "([4, 3, 1], 2.0)"
      ]
     },
     "execution_count": 26,
     "metadata": {},
     "output_type": "execute_result"
    }
   ],
   "source": [
    "#considering path between 0 and 7\n",
    "print_BI_DIJKSTRA_info(G,4,1)"
   ]
  },
  {
   "cell_type": "code",
   "execution_count": 27,
   "id": "sophisticated-australian",
   "metadata": {},
   "outputs": [],
   "source": [
    "G_ch = WeightedGrah(w2,v2)\n",
    "#now adding a shortcuts\n",
    "for i in range(len(G.V)):\n",
    "    G_ch.V[i].importance = i\n",
    " \n",
    "#adding al the shorcuts\n",
    "for i in range(len(G.V) - 1):\n",
    "    G_ch.add_shortcut(i)\n",
    "\n"
   ]
  },
  {
   "cell_type": "code",
   "execution_count": 28,
   "id": "curious-brush",
   "metadata": {},
   "outputs": [
    {
     "name": "stdout",
     "output_type": "stream",
     "text": [
      "\n",
      "From source 4 shortest paths are\n",
      "\n",
      "to node 0 with distance 2.0 -> path [4, 0]\n",
      "to node 1 with distance 2.0 -> path [4, 3, 1]\n",
      "to node 2 with distance 2.0 -> path [4, 3, 2]\n",
      "to node 3 with distance 1.0 -> path [4, 3]\n",
      "to node 5 with distance 1.0 -> path [4, 5]\n",
      "to node 6 with distance 2.0 -> path [4, 6]\n",
      "to node 7 with distance 1.0 -> path [4, 7]\n",
      "to node 8 with distance 2.0 -> path [4, 12, 8]\n",
      "to node 9 with distance 2.0 -> path [4, 9]\n",
      "to node 10 with distance 2.0 -> path [4, 10]\n",
      "to node 11 with distance 1.0 -> path [4, 11]\n",
      "to node 12 with distance 1.0 -> path [4, 12]\n",
      "to node 13 with distance 2.0 -> path [4, 13]\n",
      "to node 14 with distance 2.0 -> path [4, 5, 14]\n"
     ]
    },
    {
     "data": {
      "text/plain": [
       "4"
      ]
     },
     "execution_count": 28,
     "metadata": {},
     "output_type": "execute_result"
    }
   ],
   "source": [
    "#applying BI_DIJKSTRA on the decorated graph we obtain the desired result\n",
    "print_DIJKSTRA_info(G_ch,4)\n",
    "G_ch.V[0].pred"
   ]
  },
  {
   "cell_type": "code",
   "execution_count": 29,
   "id": "weird-hartford",
   "metadata": {},
   "outputs": [
    {
     "name": "stdout",
     "output_type": "stream",
     "text": [
      "joint found on 4\n",
      "FWD path [4], BWD path[4, 3, 1]\n",
      "From source 4 to target 1 the path is [4, 3, 1] with distance 2.0\n",
      "no shortcuts to unpack\n"
     ]
    }
   ],
   "source": [
    "path, _ = print_BI_DIJKSTRA_info(G_ch,4,1)\n",
    "unpack_path(G,path)\n"
   ]
  },
  {
   "cell_type": "code",
   "execution_count": null,
   "id": "acting-committee",
   "metadata": {},
   "outputs": [],
   "source": []
  },
  {
   "cell_type": "code",
   "execution_count": 30,
   "id": "tough-series",
   "metadata": {},
   "outputs": [
    {
     "name": "stdout",
     "output_type": "stream",
     "text": [
      "\n",
      "From source 12 shortest paths are\n",
      "\n",
      "to node 0 with distance 3.0 -> path [12, 0]\n",
      "to node 1 with distance 2.0 -> path [12, 8, 1]\n",
      "to node 2 with distance 3.0 -> path [12, 8, 2]\n",
      "to node 3 with distance 2.0 -> path [12, 8, 3]\n",
      "to node 4 with distance 2.0 -> path [12, 11, 4]\n",
      "to node 5 with distance 3.0 -> path [12, 5]\n",
      "to node 6 with distance 2.0 -> path [12, 6]\n",
      "to node 7 with distance 2.0 -> path [12, 11, 7]\n",
      "to node 8 with distance 1.0 -> path [12, 8]\n",
      "to node 9 with distance 2.0 -> path [12, 9]\n",
      "to node 10 with distance 3.0 -> path [12, 10]\n",
      "to node 11 with distance 1.0 -> path [12, 11]\n",
      "to node 13 with distance 2.0 -> path [12, 13]\n",
      "to node 14 with distance 2.0 -> path [12, 14]\n"
     ]
    }
   ],
   "source": [
    "print_DIJKSTRA_info(G_ch,12)"
   ]
  },
  {
   "cell_type": "code",
   "execution_count": 31,
   "id": "completed-steel",
   "metadata": {},
   "outputs": [
    {
     "name": "stdout",
     "output_type": "stream",
     "text": [
      "joint found on 13\n",
      "FWD path [12, 8, 13], BWD path[13]\n",
      "From source 12 to target 13 the path is [12, 8, 13] with distance 2.0\n"
     ]
    }
   ],
   "source": [
    "path, _ = print_BI_DIJKSTRA_info(G,12,13)"
   ]
  },
  {
   "cell_type": "code",
   "execution_count": 32,
   "id": "religious-anatomy",
   "metadata": {},
   "outputs": [
    {
     "name": "stdout",
     "output_type": "stream",
     "text": [
      "joint found on 13\n",
      "FWD path [12, 13], BWD path[13]\n",
      "From source 12 to target 13 the path is [12, 13] with distance 2.0\n"
     ]
    }
   ],
   "source": [
    "path, _ = print_BI_DIJKSTRA_info(G_ch,12,13)"
   ]
  },
  {
   "cell_type": "code",
   "execution_count": 33,
   "id": "sealed-dictionary",
   "metadata": {},
   "outputs": [
    {
     "name": "stdout",
     "output_type": "stream",
     "text": [
      "shortcut taken between 12 and 13\n"
     ]
    },
    {
     "data": {
      "text/plain": [
       "[12, 8, 13, 13]"
      ]
     },
     "execution_count": 33,
     "metadata": {},
     "output_type": "execute_result"
    }
   ],
   "source": [
    "unpack_path(G_ch,path)"
   ]
  },
  {
   "cell_type": "code",
   "execution_count": 34,
   "id": "straight-jackson",
   "metadata": {},
   "outputs": [
    {
     "data": {
      "text/plain": [
       "8"
      ]
     },
     "execution_count": 34,
     "metadata": {},
     "output_type": "execute_result"
    }
   ],
   "source": [
    "G_ch.shortcuts_taken[12][13]"
   ]
  },
  {
   "cell_type": "code",
   "execution_count": null,
   "id": "given-essay",
   "metadata": {},
   "outputs": [],
   "source": []
  }
 ],
 "metadata": {
  "kernelspec": {
   "display_name": "Python 3",
   "language": "python",
   "name": "python3"
  },
  "language_info": {
   "codemirror_mode": {
    "name": "ipython",
    "version": 3
   },
   "file_extension": ".py",
   "mimetype": "text/x-python",
   "name": "python",
   "nbconvert_exporter": "python",
   "pygments_lexer": "ipython3",
   "version": "3.8.5"
  }
 },
 "nbformat": 4,
 "nbformat_minor": 5
}
