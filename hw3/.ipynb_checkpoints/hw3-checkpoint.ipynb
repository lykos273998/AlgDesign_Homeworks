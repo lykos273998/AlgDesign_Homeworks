{
 "cells": [
  {
   "cell_type": "code",
   "execution_count": 1,
   "id": "desperate-vietnam",
   "metadata": {},
   "outputs": [],
   "source": [
    "from myHeap import *\n",
    "import numpy as np"
   ]
  },
  {
   "cell_type": "code",
   "execution_count": 2,
   "id": "framed-dubai",
   "metadata": {},
   "outputs": [],
   "source": [
    "\n",
    "def total_order(a,b):\n",
    "    return a[0] < b[0]\n"
   ]
  },
  {
   "cell_type": "code",
   "execution_count": 3,
   "id": "stopped-underwear",
   "metadata": {},
   "outputs": [
    {
     "name": "stdout",
     "output_type": "stream",
     "text": [
      "[(3, '0'), (49, '0'), (98, '3'), (96, '1'), (90, '3')]\n",
      "[(3, '0'), (49, '0'), (9, 'f'), (96, '1'), (90, '3'), (98, '3')]\n"
     ]
    }
   ],
   "source": [
    "test_array = [(int(np.random.rand()*100),str(int(np.random.rand()*4))) for _ in range(5)]\n",
    "H = Heap(test_array,total_order)\n",
    "print(H)\n",
    "H.Insert((9,'f'))\n",
    "print(H)"
   ]
  },
  {
   "cell_type": "code",
   "execution_count": 4,
   "id": "exact-tunisia",
   "metadata": {},
   "outputs": [],
   "source": [
    "class node:\n",
    "    def __init__(self,val):\n",
    "        self.val = val\n",
    "        self.color = None\n",
    "        self.d = None\n",
    "        self.pred = None\n",
    "        self.index = None\n",
    "        self.Heap_idx = None\n",
    "        self.graph_idx = None\n",
    "    def __str__(self):\n",
    "        return \"(Val %s Heap_idx %s d %s)\" % (str(self.val),str(self.Heap_idx),str(self.d))\n",
    "    def __repr__(self):\n",
    "        return self.__str__()\n",
    "\n",
    "class Graph:\n",
    "    \"\"\"\n",
    "    General purpose graph implementation\n",
    "    \"\"\"\n",
    "    import numpy as np\n",
    "    def __init__ (self,E,V):\n",
    "        self.E = np.array(E)                \n",
    "        self.V = np.array([node(val) for val in V])\n",
    "        self.tot_nodes = len(self.V)\n",
    "        for i in range(len(self.V)):\n",
    "            self.V[i].index = i\n",
    "        self.COLORS = ['white','grey','black']\n",
    "        self.Q = None\n",
    "        \n",
    "        \n",
    "    def _node_total_order(self,n1,n2):\n",
    "        return n1.d < n2.d    \n",
    "        \n",
    "    def __str__(self):\n",
    "        return \"Edges (adj matrix): \\n %s \\n Nodes \\n %s\" % (str(self.E), str(self.V))\n",
    "       \n",
    "    def _Adj_idx(self,node_idx):\n",
    "        return [i for i in range(self.tot_nodes) if self.E[node_idx,i] != 0]\n",
    "    \n",
    "    def _Adj_node(self,node):\n",
    "        node_idx = node.index\n",
    "        return self._Adj_idx(node_idx)\n",
    " \n",
    "    def Adj(self,node):\n",
    "        return self.V[self._Adj_node(node)]\n",
    "    def _pred(self):\n",
    "        return [v.pred for v in self.V]\n",
    "    def _d(self):\n",
    "        return [v.d for v in self.V]\n",
    "\n",
    "class SimpleGraph(Graph):\n",
    "    \"\"\"\n",
    "    simple non weighted graph, inherits from graph \n",
    "    \"\"\"\n",
    "    \n",
    "        \n",
    "    def _BFS_set(self,node,color,d,pred):\n",
    "        \n",
    "        node.color = color\n",
    "        node.d = d\n",
    "        if pred:\n",
    "            node.pred = pred.index\n",
    "        else:\n",
    "            node.pred = None\n",
    "        \n",
    "    def _BFS_init(self,source):\n",
    "        for v in self.V:\n",
    "            self._BFS_set(v,'white', np.infty, None)\n",
    "        self._BFS_set(source,'grey',0,source)\n",
    "        \n",
    "        self.Q = Heap([source],self._node_total_order)\n",
    "        \n",
    "    def BFS(self,source_idx):\n",
    "        source = self.V[source_idx]\n",
    "        self._BFS_init(source)\n",
    "        while self.Q.Size != 0:\n",
    "            u = self.Q.ExtractRoot()\n",
    "            \n",
    "            for v in self.Adj(u):\n",
    "                if v.color == 'white':\n",
    "                    self._BFS_set(v,'grey', u.d + 1, u)\n",
    "                    self.Q.Insert(v)\n",
    "            u.color = 'black'\n",
    "        \n",
    "        return self._pred(), self._d()\n",
    "    \n",
    "class WeightedGrah(Graph):\n",
    "    def _SSSP_init(self):\n",
    "        for v in self.V:\n",
    "            v.d = np.infty\n",
    "            v.pred = None\n",
    "            \n",
    "    def _UPDATE_dist(self, v, dist):\n",
    "        v.d = dist\n",
    "        self.Q._push_up(v.Heap_idx)\n",
    "        \n",
    "        \n",
    "        \n",
    "    def _relax(self,u,v,w):\n",
    "        if u.d + w < v.d:\n",
    "            self._UPDATE_dist(v, u.d + w)\n",
    "            v.pred = u.index\n",
    "        \n",
    "            \n",
    "    def _Adj_w(self,node):\n",
    "        n_list = self._Adj_node(node)\n",
    "        return zip(self.V[n_list], self.E[node.index,n_list])\n",
    "    \n",
    "    def _set_Heap_idx(self):\n",
    "        if self.Q:\n",
    "            for i in range(self.Q.Size):\n",
    "                self.Q.A[i].Heap_idx = i\n",
    "        \n",
    "    def DIJKSTRA_node(self, source):\n",
    "        self._SSSP_init()\n",
    "        source.d = 0\n",
    "        self.Q = Heap_of_nodes(self.V, self._node_total_order)\n",
    "        self._set_Heap_idx()\n",
    "        while self.Q.Size != 0:\n",
    "            #print(self.Q)\n",
    "            u = self.Q.ExtractRoot()\n",
    "            u = self.V[u.index]\n",
    "            #print('node',u.val)\n",
    "            for v,w in  self._Adj_w(u):\n",
    "                #print('v',v)\n",
    "                self._relax(u,v,w)\n",
    "            self.Q._BuildHeap()\n",
    "        return self._pred(), self._d()\n",
    "    \n",
    "    \n",
    "    def DIJKSTRA(self, source_idx):\n",
    "        return self.DIJKSTRA_node(self.V[source_idx])\n",
    "    \n",
    "    def shortcut(self, node_idx):\n",
    "        pass\n",
    "        \n",
    "            \n",
    "    \n",
    "w_adj_mat = np.array([\n",
    "    #a b c d e f g \n",
    "    [0,4,0,1,0,0,0], #a\n",
    "    [0,0,np.sqrt(3),0,0,0,0], #b\n",
    "    [0,0,0,4.2,0.1,0,0], #c\n",
    "    [2,0,0,1,0,0,0], #d\n",
    "    [5.3,0,0,0,0,0,0], #e\n",
    "    [0,0,0,0,0,0,6], #f\n",
    "    [0,0,0,0,0,0,0] #g\n",
    "])\n",
    "\n",
    "w2 = np.array([\n",
    "    [0,1,5,0,0,0],\n",
    "    [0,0,0,0,0,15],\n",
    "    [0,0,0,2,0,0],\n",
    "    [0,0,0,0,1,0],\n",
    "    [0,0,0,0,0,3],\n",
    "    [0,0,0,0,0,0]\n",
    "])   "
   ]
  },
  {
   "cell_type": "code",
   "execution_count": 5,
   "id": "rational-eight",
   "metadata": {},
   "outputs": [
    {
     "name": "stdout",
     "output_type": "stream",
     "text": [
      "[1, 2, 3, 4, 5, 6]\n"
     ]
    }
   ],
   "source": [
    "\n",
    "\n",
    "vertx = ['a' ,'b','c','d','e','f','g']\n",
    "v2 = [i for i in range(1,7)]\n",
    "print(v2)\n",
    "W_graph = WeightedGrah(w2,v2)"
   ]
  },
  {
   "cell_type": "code",
   "execution_count": 6,
   "id": "signed-pharmacology",
   "metadata": {},
   "outputs": [
    {
     "name": "stdout",
     "output_type": "stream",
     "text": [
      "[(Val 1 Heap_idx 0 d 0) (Val 2 Heap_idx 1 d inf) (Val 3 Heap_idx 2 d inf)\n",
      " (Val 4 Heap_idx 3 d inf) (Val 5 Heap_idx 4 d inf)\n",
      " (Val 6 Heap_idx 5 d inf)]\n",
      "[(Val 2 Heap_idx 0 d 1), (Val 6 Heap_idx 1 d inf), (Val 3 Heap_idx 2 d 5), (Val 4 Heap_idx 3 d inf), (Val 5 Heap_idx 4 d inf)]\n",
      "[(Val 3 Heap_idx 0 d 5), (Val 6 Heap_idx 1 d 16), (Val 5 Heap_idx 2 d inf), (Val 4 Heap_idx 3 d inf)]\n",
      "[(Val 4 Heap_idx 0 d 7), (Val 6 Heap_idx 1 d 16), (Val 5 Heap_idx 2 d inf)]\n",
      "[(Val 5 Heap_idx 0 d 8), (Val 6 Heap_idx 1 d 16)]\n",
      "[(Val 6 Heap_idx 0 d 11)]\n"
     ]
    },
    {
     "data": {
      "text/plain": [
       "([None, 0, 0, 2, 3, 4], [0, 1, 5, 7, 8, 11])"
      ]
     },
     "execution_count": 6,
     "metadata": {},
     "output_type": "execute_result"
    }
   ],
   "source": [
    "W_graph.DIJKSTRA(0)\n"
   ]
  },
  {
   "cell_type": "code",
   "execution_count": 7,
   "id": "included-executive",
   "metadata": {},
   "outputs": [
    {
     "name": "stdout",
     "output_type": "stream",
     "text": [
      "[]\n"
     ]
    }
   ],
   "source": [
    "print(W_graph.Q)"
   ]
  },
  {
   "cell_type": "code",
   "execution_count": null,
   "id": "demographic-quantity",
   "metadata": {},
   "outputs": [],
   "source": []
  }
 ],
 "metadata": {
  "kernelspec": {
   "display_name": "Python 3",
   "language": "python",
   "name": "python3"
  },
  "language_info": {
   "codemirror_mode": {
    "name": "ipython",
    "version": 3
   },
   "file_extension": ".py",
   "mimetype": "text/x-python",
   "name": "python",
   "nbconvert_exporter": "python",
   "pygments_lexer": "ipython3",
   "version": "3.8.5"
  }
 },
 "nbformat": 4,
 "nbformat_minor": 5
}
