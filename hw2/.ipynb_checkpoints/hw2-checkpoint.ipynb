{
 "cells": [
  {
   "cell_type": "markdown",
   "id": "artistic-athletics",
   "metadata": {},
   "source": [
    "# Homework 2 \n",
    "## Algorithmic Design \n",
    "    Student: Francesco Tomba \n",
    "    AY: 2020-21\n"
   ]
  },
  {
   "cell_type": "markdown",
   "id": "capable-permission",
   "metadata": {},
   "source": [
    "## Ex 1\n",
    "**a)**\n",
    "\n",
    "The solution of the exercise begins with making a remark about the `Min-Heap` data structure that is a nearly complete binary tree wich given a total order satisfies the Heap property (each parent node satisfies the total order condition w.r.t his children).\n",
    "The solution proposed is based on the array-based representation of the heap seen in the lectures. \n",
    "\n",
    "The heap property and the fact that an heap is a tree complete up to the last level imply that in a `Min-Heap` the maximum will be found in one of the leaves, so if we consider the array based representation there will not be no more than $n/2$ leaves, given $n$ the total number of elements in the Heap.\n",
    "\n",
    "The idea so is to search for the maximum amog the last $n/2$ elements. Since the heap may be unsorted the complexity of finding the maximum among them is requires $n/2$ comparisons so it belongs to $O(n)$\n",
    "\n",
    "Calling the Heap considered H. The function CEIL is the ceiling of the float to the next integer.\n",
    "\n",
    "```\n",
    "def RetrieveMax(H):\n",
    "    N_start <-- CEIL(H.size/2)\n",
    "    max <-- H[N_start] \n",
    "    IndexOfMax <-- N_start\n",
    "    for i <-- N_start + 1 ... H.size:\n",
    "        if max < H[i]:\n",
    "            max <-- H[i]\n",
    "            IndexOfMax <-- i\n",
    "        endif\n",
    "    endfor\n",
    "    \n",
    "    return max, IndexOfMax\n",
    "enddef\n",
    "```\n",
    "Each iteration needs infact 1 comparison, passing through al the terminal nodes of the heap, so searching for the maximum is more accurately $\\Theta(n)$\n"
   ]
  },
  {
   "cell_type": "markdown",
   "id": "fossil-shadow",
   "metadata": {},
   "source": [
    "**b)**\n",
    "\n",
    "The idea on which the solution relies is to find the maximum and its position on the heap then replace it with the right most element in the last level, and decreasing the heap size by one.\n",
    "\n",
    "Note how that by performing this replacement the heap property may be lost, so we have to restore it. The restoration goes on by pushing up to the root the node replaced. In a first time the value of the node is compared to his parent, if the heap property is broken the node is swapped with his parent. Than the procedure is iterated up one level. Note that in the worst case scenario the node will be pushed up to the second level, infact being the root the global minimum of the structure for sure no swaps will be performed\n",
    "\n",
    "Calling `SWAP(H,i,j)` a procedure that swaps the values in nodes `i` and `j`, the pseudo code is:\n",
    "\n",
    "```\n",
    "\n",
    "def DeleteMax(H):\n",
    "    Max, IndexOfMax = RetrieveMax(H)\n",
    "    \n",
    "    H[IndexOfMax] <-- H[H.Size]\n",
    "    H.Size <-- H.Size - 1\n",
    "    \n",
    "    node <-- IndexOfMax\n",
    "    p <-- Parent(IndexOfMax)\n",
    "    \n",
    "    while p > 1:\n",
    "    \n",
    "        if H[node] > H[p]:\n",
    "            SWAP(H,node,p)\n",
    "            node <-- p\n",
    "            p <-- Parent(node)\n",
    "        else\n",
    "            break\n",
    "        endif\n",
    "            \n",
    "    endwhile\n",
    "    \n",
    "    return Max\n",
    "    \n",
    "enddef\n",
    "```\n",
    "\n",
    "Note now, that the procedure requires $\\Theta(n)$ steps to find the maximum and his position plus the swapping and the restoration of the heap property. The while loop goes on for a maximum of iteration equal to the heigth of the heap - 1. At each iteration are performed 3 operations. Due to the fact that the heap property may be restored before reaching the root of the tree the time complexity for this part is $O(\\log(n))$\n",
    "\n",
    "Resuming all said before $T_{RM}(n) = \\Theta(n) + O(\\log(n))$ so it belongs to $\\Theta(n)$. So the procedure of finding the maximum is always dominated by the procedure of finding it."
   ]
  },
  {
   "cell_type": "markdown",
   "id": "motivated-selling",
   "metadata": {},
   "source": [
    "**c)**\n",
    "\n",
    "As said before the worst case scenario in removing the maximum happens when the node of the maximum is replaced with the right most value and then this value has to be pushed up to the second level. \n",
    "\n",
    "Let consider an heap composed by the numbers [1, 2, 30, 3, 7, 31, 100, 4]. \n",
    "Now the maximum ( 100 ) is found and replaced with the last element ( 4 ).\n",
    "\n",
    "So we end up with the broken heap [1, 2, 30 ,3, 7, 31, 4] (infact 4 < 30 even if 30 is parent of 4).\n",
    "\n",
    "Fixing the property proceeds by swapping 30 and 4, so we end up with [1, 2, 4, 3, 7, 30, 31]\n",
    "end the heap property is restored. \n"
   ]
  },
  {
   "cell_type": "code",
   "execution_count": null,
   "id": "standard-karma",
   "metadata": {},
   "outputs": [],
   "source": []
  }
 ],
 "metadata": {
  "kernelspec": {
   "display_name": "Python 3",
   "language": "python",
   "name": "python3"
  },
  "language_info": {
   "codemirror_mode": {
    "name": "ipython",
    "version": 3
   },
   "file_extension": ".py",
   "mimetype": "text/x-python",
   "name": "python",
   "nbconvert_exporter": "python",
   "pygments_lexer": "ipython3",
   "version": "3.8.5"
  }
 },
 "nbformat": 4,
 "nbformat_minor": 5
}
