{
 "cells": [
  {
   "cell_type": "code",
   "execution_count": null,
   "id": "first-postage",
   "metadata": {},
   "outputs": [],
   "source": [
    "def swap(A,i,j):\n",
    "    A[i], A[j] = A[j], A[i]\n",
    "    \n",
    "def partition(A,i,j,p):\n",
    "    i = 0\n",
    "    j = len(A) - 1\n",
    "    swap(A,i,p)\n",
    "    p, i = i, i + 1\n",
    "    \n",
    "    while i <= j:\n",
    "        if A[i] > A[p]:\n",
    "            swap(A,i,j)\n",
    "            j = j - 1\n",
    "        else \n",
    "            i = i + 1\n",
    "    swap(A,p,j)\n",
    "    return j"
   ]
  }
 ],
 "metadata": {
  "kernelspec": {
   "display_name": "Python 3",
   "language": "python",
   "name": "python3"
  },
  "language_info": {
   "codemirror_mode": {
    "name": "ipython",
    "version": 3
   },
   "file_extension": ".py",
   "mimetype": "text/x-python",
   "name": "python",
   "nbconvert_exporter": "python",
   "pygments_lexer": "ipython3",
   "version": "3.8.5"
  }
 },
 "nbformat": 4,
 "nbformat_minor": 5
}
