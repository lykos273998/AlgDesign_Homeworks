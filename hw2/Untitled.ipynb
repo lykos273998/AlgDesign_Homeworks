{
 "cells": [
  {
   "cell_type": "code",
   "execution_count": 2,
   "id": "gross-collective",
   "metadata": {},
   "outputs": [],
   "source": [
    "def swap(A,i,j):\n",
    "    A[i], A[j] = A[j], A[i]\n",
    "    \n",
    "def partition(A,i,j,p):\n",
    "    swap(A,i,p)\n",
    "    p, i = i, i + 1\n",
    "    \n",
    "    while i <= j:\n",
    "        if A[i] > A[p]:\n",
    "            swap(A,i,j)\n",
    "            j = j - 1\n",
    "        else:\n",
    "            i = i + 1\n",
    "    swap(A,p,j)\n",
    "    return j"
   ]
  },
  {
   "cell_type": "code",
   "execution_count": 25,
   "id": "qualified-commercial",
   "metadata": {},
   "outputs": [],
   "source": [
    "from random import *\n",
    "A =[ randint(0,5) for j in range(8) ]"
   ]
  },
  {
   "cell_type": "code",
   "execution_count": 26,
   "id": "hollow-boxing",
   "metadata": {},
   "outputs": [
    {
     "data": {
      "text/plain": [
       "[0, 4, 2, 0, 1, 0, 0, 1]"
      ]
     },
     "execution_count": 26,
     "metadata": {},
     "output_type": "execute_result"
    }
   ],
   "source": [
    "A"
   ]
  },
  {
   "cell_type": "code",
   "execution_count": 27,
   "id": "objective-reason",
   "metadata": {},
   "outputs": [
    {
     "data": {
      "text/plain": [
       "6"
      ]
     },
     "execution_count": 27,
     "metadata": {},
     "output_type": "execute_result"
    }
   ],
   "source": [
    "partition(A,0,len(A) - 1, 2)"
   ]
  },
  {
   "cell_type": "code",
   "execution_count": 28,
   "id": "contemporary-franklin",
   "metadata": {},
   "outputs": [
    {
     "data": {
      "text/plain": [
       "[0, 1, 0, 0, 1, 0, 2, 4]"
      ]
     },
     "execution_count": 28,
     "metadata": {},
     "output_type": "execute_result"
    }
   ],
   "source": [
    "A"
   ]
  },
  {
   "cell_type": "code",
   "execution_count": null,
   "id": "typical-furniture",
   "metadata": {},
   "outputs": [],
   "source": []
  }
 ],
 "metadata": {
  "kernelspec": {
   "display_name": "Python 3",
   "language": "python",
   "name": "python3"
  },
  "language_info": {
   "codemirror_mode": {
    "name": "ipython",
    "version": 3
   },
   "file_extension": ".py",
   "mimetype": "text/x-python",
   "name": "python",
   "nbconvert_exporter": "python",
   "pygments_lexer": "ipython3",
   "version": "3.8.5"
  }
 },
 "nbformat": 4,
 "nbformat_minor": 5
}
